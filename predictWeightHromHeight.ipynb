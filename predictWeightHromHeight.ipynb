{
  "nbformat": 4,
  "nbformat_minor": 0,
  "metadata": {
    "colab": {
      "name": "Untitled1.ipynb",
      "provenance": [],
      "authorship_tag": "ABX9TyPF0JXRo4jaUcGQtp3UFurI",
      "include_colab_link": true
    },
    "kernelspec": {
      "name": "python3",
      "display_name": "Python 3"
    },
    "language_info": {
      "name": "python"
    }
  },
  "cells": [
    {
      "cell_type": "markdown",
      "metadata": {
        "id": "view-in-github",
        "colab_type": "text"
      },
      "source": [
        "<a href=\"https://colab.research.google.com/github/RinzCSGO/machine-learning/blob/learn/predictWeightHromHeight.ipynb\" target=\"_parent\"><img src=\"https://colab.research.google.com/assets/colab-badge.svg\" alt=\"Open In Colab\"/></a>"
      ]
    },
    {
      "cell_type": "code",
      "source": [
        "pip install scikit-learn"
      ],
      "metadata": {
        "colab": {
          "base_uri": "https://localhost:8080/"
        },
        "id": "luQlqhLe_ArN",
        "outputId": "d6af28e3-14bf-4e63-b44f-817e186e3bdc"
      },
      "execution_count": 31,
      "outputs": [
        {
          "output_type": "stream",
          "name": "stdout",
          "text": [
            "Looking in indexes: https://pypi.org/simple, https://us-python.pkg.dev/colab-wheels/public/simple/\n",
            "Requirement already satisfied: scikit-learn in /usr/local/lib/python3.7/dist-packages (1.0.2)\n",
            "Requirement already satisfied: threadpoolctl>=2.0.0 in /usr/local/lib/python3.7/dist-packages (from scikit-learn) (3.1.0)\n",
            "Requirement already satisfied: numpy>=1.14.6 in /usr/local/lib/python3.7/dist-packages (from scikit-learn) (1.21.6)\n",
            "Requirement already satisfied: joblib>=0.11 in /usr/local/lib/python3.7/dist-packages (from scikit-learn) (1.1.0)\n",
            "Requirement already satisfied: scipy>=1.1.0 in /usr/local/lib/python3.7/dist-packages (from scikit-learn) (1.7.3)\n"
          ]
        }
      ]
    },
    {
      "cell_type": "code",
      "execution_count": 23,
      "metadata": {
        "id": "WEbzvjRX4VeF"
      },
      "outputs": [],
      "source": [
        "import numpy as np\n",
        "import matplotlib.pyplot as plt"
      ]
    },
    {
      "cell_type": "code",
      "source": [
        "x = np.array([[145,150,152,154,156,160,162,164,165,168,170,172,174,175,177,178,180,181,182,184]]).T\n",
        "y =[42,46,50,54,54,56,60,64,65,66,67,68,69,70,71,72, 72,73,74,75]"
      ],
      "metadata": {
        "id": "ac3arBGe97dK"
      },
      "execution_count": 24,
      "outputs": []
    },
    {
      "cell_type": "code",
      "source": [
        "N = len(x)\n",
        "onesMat = np.ones((1,N))\n",
        "X = np.concatenate((onesMat, x.T), axis=0)"
      ],
      "metadata": {
        "id": "1xwnDvEQ4sGv"
      },
      "execution_count": 25,
      "outputs": []
    },
    {
      "cell_type": "code",
      "source": [
        "A = np.dot(X,X.T)\n",
        "b = np.dot(X,y)"
      ],
      "metadata": {
        "id": "JdU_EDlt506i"
      },
      "execution_count": 26,
      "outputs": []
    },
    {
      "cell_type": "code",
      "source": [
        "w = np.dot( np.linalg.pinv(A), b )\n",
        "w0 = w[0]\n",
        "w1 = w[1]"
      ],
      "metadata": {
        "id": "SsT8JF2W5_rK"
      },
      "execution_count": 28,
      "outputs": []
    },
    {
      "cell_type": "code",
      "source": [
        "x0 = np.linspace( 145, 184, 2 )"
      ],
      "metadata": {
        "id": "E8_SjU4l9S5r"
      },
      "execution_count": 29,
      "outputs": []
    },
    {
      "cell_type": "code",
      "source": [
        "y0 = w0 + w1*x0\n",
        "plt.plot( x0, y0 )\n",
        "plt.plot( x, y, 'bo' )\n",
        "plt.title( \"Hàm xấp xỉ \" + \"$y=w_0+w_1x$\" )\n",
        "plt.xlabel( \"Chieu cao (cm)\" )\n",
        "plt.ylabel( \"Cân nặng (kg)\" )\n",
        "plt.show()"
      ],
      "metadata": {
        "colab": {
          "base_uri": "https://localhost:8080/",
          "height": 298
        },
        "id": "Nb37zLIQ-6jG",
        "outputId": "55507720-13c7-41de-89af-c035162b3a41"
      },
      "execution_count": 30,
      "outputs": [
        {
          "output_type": "display_data",
          "data": {
            "text/plain": [
              "<Figure size 432x288 with 1 Axes>"
            ],
            "image/png": "[encoded data removed]"
          },
          "metadata": {
            "needs_background": "light"
          }
        }
      ]
    },
    {
      "cell_type": "code",
      "source": [
        "from sklearn import linear_model\n",
        "w = linear_model.LinearRegression(\n",
        "    fit_intercept = False)\n",
        "w.fit(X.T,y)\n",
        "w0 = w.coef_.T[0]\n",
        "w1 = w.coef_.T[1]"
      ],
      "metadata": {
        "id": "dnEqGT4g_K-o"
      },
      "execution_count": 32,
      "outputs": []
    },
    {
      "cell_type": "code",
      "source": [
        "x = float(input('Du doan trong tuong lai cua nguoi co chieu cao: '))\n",
        "ypred = w0 + w1*x \n",
        "print('Can nang cua nguoi co chieu cao %.0f cm la %.2f kg'%(x,ypred))"
      ],
      "metadata": {
        "colab": {
          "base_uri": "https://localhost:8080/"
        },
        "id": "6OwCuam-_npg",
        "outputId": "f33caa96-0440-4ab3-e729-90d126d24f01"
      },
      "execution_count": 33,
      "outputs": [
        {
          "output_type": "stream",
          "name": "stdout",
          "text": [
            "Du doan trong tuong lai cua nguoi co chieu cao: 190\n",
            "Can nang cua nguoi co chieu cao 190 cm la 81.98 kg\n"
          ]
        }
      ]
    }
  ]
}