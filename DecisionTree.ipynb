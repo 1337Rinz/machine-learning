{
  "nbformat": 4,
  "nbformat_minor": 0,
  "metadata": {
    "colab": {
      "name": "DecisionTree.ipynb",
      "provenance": [],
      "toc_visible": true,
      "authorship_tag": "ABX9TyOo9X/dMIkcWeIJ/cmz8pg9",
      "include_colab_link": true
    },
    "kernelspec": {
      "name": "python3",
      "display_name": "Python 3"
    },
    "language_info": {
      "name": "python"
    },
    "accelerator": "GPU",
    "gpuClass": "standard"
  },
  "cells": [
    {
      "cell_type": "markdown",
      "metadata": {
        "id": "view-in-github",
        "colab_type": "text"
      },
      "source": [
        "<a href=\"https://colab.research.google.com/github/RinzCSGO/machine-learning/blob/learn/DecisionTree.ipynb\" target=\"_parent\"><img src=\"https://colab.research.google.com/assets/colab-badge.svg\" alt=\"Open In Colab\"/></a>"
      ]
    },
    {
      "cell_type": "markdown",
      "source": [
        "**Title**:  Balance Scale Weight & Distance Database\n",
        "\n",
        "[data source](https://archive.ics.uci.edu/ml/datasets/balance+scale)"
      ],
      "metadata": {
        "id": "X2Ozdmoxc4XQ"
      }
    },
    {
      "cell_type": "markdown",
      "source": [
        " **Relevant Information**\n",
        "\n",
        "This data set was generated to model psychological\n",
        "\texperimental results.  Each example is classified as having the\n",
        "\tbalance scale tip to the right, tip to the left, or be\n",
        "\tbalanced.  The attributes are the left weight, the left\n",
        "\tdistance, the right weight, and the right distance.  The\n",
        "\tcorrect way to find the class is the greater of \n",
        "\t(left-distance * left-weight) and (right-distance *\n",
        "\tright-weight).  If they are equal, it is balanced.*italicized text*\n",
        "\n",
        "\n",
        "  **Number of Instances**: 625 (49 balanced, 288 left, 288 right)\n",
        "\n",
        "  **Number of Attributes**: 4 (numeric) + class name = 5\n",
        "\n",
        "**Attribute Information**:\n",
        "\n",
        "\t1. Class Name: 3 (L, B, R)\n",
        "\t2. Left-Weight: 5 (1, 2, 3, 4, 5)\n",
        "\t3. Left-Distance: 5 (1, 2, 3, 4, 5)\n",
        "\t4. Right-Weight: 5 (1, 2, 3, 4, 5)\n",
        "\t5. Right-Distance: 5 (1, 2, 3, 4, 5)\n",
        "\n",
        "**Missing Attribute Values**: none\n",
        "\n",
        "**Class Distribution**: \n",
        "\n",
        "     1. 46.08 percent are L\n",
        "     2. 07.84 percent are B\n",
        "     3. 46.08 percent are R\n"
      ],
      "metadata": {
        "id": "udOr4Bl1fMcd"
      }
    },
    {
      "cell_type": "code",
      "execution_count": null,
      "metadata": {
        "id": "HboHS5ZccqIU"
      },
      "outputs": [],
      "source": [
        "# import\n",
        "import numpy as np\n",
        "import pandas as pd\n",
        "from sklearn.metrics import confusion_matrix\n",
        "from sklearn.model_selection import train_test_split\n",
        "from sklearn.tree import DecisionTreeClassifier \n",
        "from sklearn.metrics import accuracy_score \n",
        "from sklearn.metrics import classification_report "
      ]
    },
    {
      "cell_type": "code",
      "source": [
        "# Function import Dataset\n",
        "def importdata():\n",
        "  url='https://raw.githubusercontent.com/RinzCSGO/machine-learning/main/data/ml-basics/balance-scale.csv'\n",
        "  balance_data = pd.read_csv(url,sep=',',header = None)\n",
        "\n",
        "  #print the dataset shape\n",
        "  print(\"Dataset Length: \",\n",
        "        len(balance_data))\n",
        "  print(\"Dataset Shape: \",\n",
        "        balance_data.shape)\n",
        "\n",
        "  #print the dataset obseravtions\n",
        "  print(\"Dataset: \",\n",
        "        balance_data.head())\n",
        "  \n",
        "  return balance_data"
      ],
      "metadata": {
        "id": "_EBx8F_JiyDN"
      },
      "execution_count": null,
      "outputs": []
    },
    {
      "cell_type": "code",
      "source": [
        "# Function split the dataset\n",
        "def splitdataset(balance_data):\n",
        "\n",
        "  #Separating the target variable\n",
        "  X = balance_data.values[:,1:5]\n",
        "  Y = balance_data.values[:,0]\n",
        "\n",
        "  #Split the dataset into train and test\n",
        "  X_train, X_test, y_train, y_test =  train_test_split(X, Y, test_size = 0.3, random_state = 100)\n",
        "\n",
        "  return X,Y,X_train,X_test, y_train, y_test"
      ],
      "metadata": {
        "id": "nIuWucI4lpxy"
      },
      "execution_count": null,
      "outputs": []
    },
    {
      "cell_type": "code",
      "source": [
        "# Function to perform training with giniIndex\n",
        "def train_using_gini(X_train, X_test, y_train):\n",
        "\n",
        "  #create the classifier object\n",
        "  clf_gini = DecisionTreeClassifier(\n",
        "      criterion = \"gini\", random_state = 100, max_depth=3, min_samples_leaf=5)\n",
        "\n",
        "  # performing training\n",
        "  clf_gini.fit(X_train, y_train)\n",
        "  return clf_gini"
      ],
      "metadata": {
        "id": "zdKxc6UBm5Qz"
      },
      "execution_count": null,
      "outputs": []
    },
    {
      "cell_type": "code",
      "source": [
        "# Function to perform training with entropy\n",
        "def train_using_entropy(X_train, X_test, y_train):\n",
        "\n",
        "  # DecisionTree with entropy\n",
        "  clf_entropy = DecisionTreeClassifier(\n",
        "      criterion= \"entropy\", random_state = 100,\n",
        "      max_depth= 3, min_samples_leaf= 5\n",
        "  )\n",
        "\n",
        "  #performing training\n",
        "  clf_entropy.fit(X_train, y_train)\n",
        "  return clf_entropy"
      ],
      "metadata": {
        "id": "CQsWhi4LnsB4"
      },
      "execution_count": null,
      "outputs": []
    },
    {
      "cell_type": "code",
      "source": [
        "# Function to make predictions\n",
        "def prediction(X_test, clf_object):\n",
        "\n",
        "  #prediction on test with giniIndex\n",
        "  y_pred = clf_object.predict(X_test)\n",
        "  print(\"Predicted values: \")\n",
        "  print(y_pred)\n",
        "  return y_pred"
      ],
      "metadata": {
        "id": "KbM2dw4goDX0"
      },
      "execution_count": null,
      "outputs": []
    },
    {
      "cell_type": "code",
      "source": [
        "# Function to calculate accuracy\n",
        "def cal_accuracy(y_test, y_pred):\n",
        "\n",
        "  print(\"Confusion Matrix: \",\n",
        "        confusion_matrix(y_test,y_pred))\n",
        "  \n",
        "  print(\"Accuracy :\",\n",
        "        accuracy_score(y_test, y_pred)*100)\n",
        "\n",
        "  print(\"Report : \",\n",
        "        classification_report(y_test, y_pred))"
      ],
      "metadata": {
        "id": "v1OitgxOo1do"
      },
      "execution_count": null,
      "outputs": []
    },
    {
      "cell_type": "code",
      "source": [
        "# main\n",
        "def main():\n",
        "  # Building Phase\n",
        "  data = importdata()\n",
        "  X, Y, X_train, X_test, y_train, y_test = splitdataset(data)\n",
        "  clf_gini = train_using_gini(X_train, X_test, y_train)\n",
        "  clf_entropy = train_using_entropy(X_train, X_test, y_train) \n",
        "\n",
        "  # Operational Phase \n",
        "  print(\"Results Using Gini Index:\") \n",
        "\n",
        "  # Prediction using gini \n",
        "  y_pred_gini = prediction(X_test, clf_gini)\n",
        "  cal_accuracy(y_test, y_pred_gini)\n",
        "\n",
        "  print(\"Results Using Entropy:\") \n",
        "  # Prediction using entropy \n",
        "  y_pred_entropy = prediction(X_test, clf_entropy) \n",
        "  cal_accuracy(y_test, y_pred_entropy) \n",
        "                              "
      ],
      "metadata": {
        "id": "16dZrxIrpWGH"
      },
      "execution_count": null,
      "outputs": []
    },
    {
      "cell_type": "code",
      "source": [
        "# Calling main function \n",
        "if __name__==\"__main__\": \n",
        "  main()"
      ],
      "metadata": {
        "colab": {
          "base_uri": "https://localhost:8080/"
        },
        "id": "tbDD70rBrtqf",
        "outputId": "93601888-043d-4586-8d55-aca37ea22631"
      },
      "execution_count": null,
      "outputs": [
        {
          "output_type": "stream",
          "name": "stdout",
          "text": [
            "Dataset Length:  625\n",
            "Dataset Shape:  (625, 5)\n",
            "Dataset:     0  1  2  3  4\n",
            "0  B  1  1  1  1\n",
            "1  R  1  1  1  2\n",
            "2  R  1  1  1  3\n",
            "3  R  1  1  1  4\n",
            "4  R  1  1  1  5\n",
            "Results Using Gini Index:\n",
            "Predicted values: \n",
            "['R' 'L' 'R' 'R' 'R' 'L' 'R' 'L' 'L' 'L' 'R' 'L' 'L' 'L' 'R' 'L' 'R' 'L'\n",
            " 'L' 'R' 'L' 'R' 'L' 'L' 'R' 'L' 'L' 'L' 'R' 'L' 'L' 'L' 'R' 'L' 'L' 'L'\n",
            " 'L' 'R' 'L' 'L' 'R' 'L' 'R' 'L' 'R' 'R' 'L' 'L' 'R' 'L' 'R' 'R' 'L' 'R'\n",
            " 'R' 'L' 'R' 'R' 'L' 'L' 'R' 'R' 'L' 'L' 'L' 'L' 'L' 'R' 'R' 'L' 'L' 'R'\n",
            " 'R' 'L' 'R' 'L' 'R' 'R' 'R' 'L' 'R' 'L' 'L' 'L' 'L' 'R' 'R' 'L' 'R' 'L'\n",
            " 'R' 'R' 'L' 'L' 'L' 'R' 'R' 'L' 'L' 'L' 'R' 'L' 'R' 'R' 'R' 'R' 'R' 'R'\n",
            " 'R' 'L' 'R' 'L' 'R' 'R' 'L' 'R' 'R' 'R' 'R' 'R' 'L' 'R' 'L' 'L' 'L' 'L'\n",
            " 'L' 'L' 'L' 'R' 'R' 'R' 'R' 'L' 'R' 'R' 'R' 'L' 'L' 'R' 'L' 'R' 'L' 'R'\n",
            " 'L' 'L' 'R' 'L' 'L' 'R' 'L' 'R' 'L' 'R' 'R' 'R' 'L' 'R' 'R' 'R' 'R' 'R'\n",
            " 'L' 'L' 'R' 'R' 'R' 'R' 'L' 'R' 'R' 'R' 'L' 'R' 'L' 'L' 'L' 'L' 'R' 'R'\n",
            " 'L' 'R' 'R' 'L' 'L' 'R' 'R' 'R']\n",
            "Confusion Matrix:  [[ 0  6  7]\n",
            " [ 0 67 18]\n",
            " [ 0 19 71]]\n",
            "Accuracy : 73.40425531914893\n",
            "Report :                precision    recall  f1-score   support\n",
            "\n",
            "           B       0.00      0.00      0.00        13\n",
            "           L       0.73      0.79      0.76        85\n",
            "           R       0.74      0.79      0.76        90\n",
            "\n",
            "    accuracy                           0.73       188\n",
            "   macro avg       0.49      0.53      0.51       188\n",
            "weighted avg       0.68      0.73      0.71       188\n",
            "\n",
            "Results Using Entropy:\n",
            "Predicted values: \n",
            "['R' 'L' 'R' 'L' 'R' 'L' 'R' 'L' 'R' 'R' 'R' 'R' 'L' 'L' 'R' 'L' 'R' 'L'\n",
            " 'L' 'R' 'L' 'R' 'L' 'L' 'R' 'L' 'R' 'L' 'R' 'L' 'R' 'L' 'R' 'L' 'L' 'L'\n",
            " 'L' 'L' 'R' 'L' 'R' 'L' 'R' 'L' 'R' 'R' 'L' 'L' 'R' 'L' 'L' 'R' 'L' 'L'\n",
            " 'R' 'L' 'R' 'R' 'L' 'R' 'R' 'R' 'L' 'L' 'R' 'L' 'L' 'R' 'L' 'L' 'L' 'R'\n",
            " 'R' 'L' 'R' 'L' 'R' 'R' 'R' 'L' 'R' 'L' 'L' 'L' 'L' 'R' 'R' 'L' 'R' 'L'\n",
            " 'R' 'R' 'L' 'L' 'L' 'R' 'R' 'L' 'L' 'L' 'R' 'L' 'L' 'R' 'R' 'R' 'R' 'R'\n",
            " 'R' 'L' 'R' 'L' 'R' 'R' 'L' 'R' 'R' 'L' 'R' 'R' 'L' 'R' 'R' 'R' 'L' 'L'\n",
            " 'L' 'L' 'L' 'R' 'R' 'R' 'R' 'L' 'R' 'R' 'R' 'L' 'L' 'R' 'L' 'R' 'L' 'R'\n",
            " 'L' 'R' 'R' 'L' 'L' 'R' 'L' 'R' 'R' 'R' 'R' 'R' 'L' 'R' 'R' 'R' 'R' 'R'\n",
            " 'R' 'L' 'R' 'L' 'R' 'R' 'L' 'R' 'L' 'R' 'L' 'R' 'L' 'L' 'L' 'L' 'L' 'R'\n",
            " 'R' 'R' 'L' 'L' 'L' 'R' 'R' 'R']\n",
            "Confusion Matrix:  [[ 0  6  7]\n",
            " [ 0 63 22]\n",
            " [ 0 20 70]]\n",
            "Accuracy : 70.74468085106383\n",
            "Report :                precision    recall  f1-score   support\n",
            "\n",
            "           B       0.00      0.00      0.00        13\n",
            "           L       0.71      0.74      0.72        85\n",
            "           R       0.71      0.78      0.74        90\n",
            "\n",
            "    accuracy                           0.71       188\n",
            "   macro avg       0.47      0.51      0.49       188\n",
            "weighted avg       0.66      0.71      0.68       188\n",
            "\n"
          ]
        },
        {
          "output_type": "stream",
          "name": "stderr",
          "text": [
            "/usr/local/lib/python3.7/dist-packages/sklearn/metrics/_classification.py:1318: UndefinedMetricWarning: Precision and F-score are ill-defined and being set to 0.0 in labels with no predicted samples. Use `zero_division` parameter to control this behavior.\n",
            "  _warn_prf(average, modifier, msg_start, len(result))\n",
            "/usr/local/lib/python3.7/dist-packages/sklearn/metrics/_classification.py:1318: UndefinedMetricWarning: Precision and F-score are ill-defined and being set to 0.0 in labels with no predicted samples. Use `zero_division` parameter to control this behavior.\n",
            "  _warn_prf(average, modifier, msg_start, len(result))\n",
            "/usr/local/lib/python3.7/dist-packages/sklearn/metrics/_classification.py:1318: UndefinedMetricWarning: Precision and F-score are ill-defined and being set to 0.0 in labels with no predicted samples. Use `zero_division` parameter to control this behavior.\n",
            "  _warn_prf(average, modifier, msg_start, len(result))\n",
            "/usr/local/lib/python3.7/dist-packages/sklearn/metrics/_classification.py:1318: UndefinedMetricWarning: Precision and F-score are ill-defined and being set to 0.0 in labels with no predicted samples. Use `zero_division` parameter to control this behavior.\n",
            "  _warn_prf(average, modifier, msg_start, len(result))\n",
            "/usr/local/lib/python3.7/dist-packages/sklearn/metrics/_classification.py:1318: UndefinedMetricWarning: Precision and F-score are ill-defined and being set to 0.0 in labels with no predicted samples. Use `zero_division` parameter to control this behavior.\n",
            "  _warn_prf(average, modifier, msg_start, len(result))\n",
            "/usr/local/lib/python3.7/dist-packages/sklearn/metrics/_classification.py:1318: UndefinedMetricWarning: Precision and F-score are ill-defined and being set to 0.0 in labels with no predicted samples. Use `zero_division` parameter to control this behavior.\n",
            "  _warn_prf(average, modifier, msg_start, len(result))\n"
          ]
        }
      ]
    }
  ]
}